{
 "cells": [
  {
   "cell_type": "markdown",
   "id": "a0024ebc",
   "metadata": {},
   "source": [
    "# DATA PREPARATION"
   ]
  },
  {
   "cell_type": "code",
   "execution_count": 5,
   "id": "1ad3c2c9",
   "metadata": {},
   "outputs": [],
   "source": [
    "import os #\"\"\"os used for file extraction\"\"\"\n",
    "import glob #\"\"\"glob used for folder/file identification\"\"\"\n",
    "import zipfile #\"\"\"zipfile used for unzipping\"\"\"\n",
    "import numpy as np #\"\"\"numpy used for statistics purpose\"\"\"\n",
    "import pandas as pd #\"\"\"pandas used for importing data and creating dataframes\"\"\"\n",
    "import seaborn as sns #\"\"\"seaborn used for visulization\"\"\"\n",
    "import matplotlib.pyplot as plt #\"\"\"matplot used for visulization\"\"\"\n",
    "from datetime import timedelta, datetime\n",
    "import warnings #\"\"\"warnings used to ignore warning windows\"\"\"\n",
    "warnings.filterwarnings('ignore')"
   ]
  },
  {
   "cell_type": "code",
   "execution_count": 27,
   "id": "003cf3ba",
   "metadata": {},
   "outputs": [
    {
     "data": {
      "text/html": [
       "<div>\n",
       "<style scoped>\n",
       "    .dataframe tbody tr th:only-of-type {\n",
       "        vertical-align: middle;\n",
       "    }\n",
       "\n",
       "    .dataframe tbody tr th {\n",
       "        vertical-align: top;\n",
       "    }\n",
       "\n",
       "    .dataframe thead th {\n",
       "        text-align: right;\n",
       "    }\n",
       "</style>\n",
       "<table border=\"1\" class=\"dataframe\">\n",
       "  <thead>\n",
       "    <tr style=\"text-align: right;\">\n",
       "      <th></th>\n",
       "      <th>ID</th>\n",
       "      <th>Stress level</th>\n",
       "      <th>Start datetime</th>\n",
       "      <th>End datetime</th>\n",
       "      <th>datetime</th>\n",
       "      <th>time</th>\n",
       "    </tr>\n",
       "  </thead>\n",
       "  <tbody>\n",
       "    <tr>\n",
       "      <th>0</th>\n",
       "      <td>5C</td>\n",
       "      <td>1.0</td>\n",
       "      <td>2020-04-15 13:00:00</td>\n",
       "      <td>2020-04-15 14:00:00</td>\n",
       "      <td>0 days 01:00:00</td>\n",
       "      <td>60.0</td>\n",
       "    </tr>\n",
       "    <tr>\n",
       "      <th>1</th>\n",
       "      <td>5C</td>\n",
       "      <td>1.0</td>\n",
       "      <td>2020-04-14 22:31:00</td>\n",
       "      <td>2020-04-14 22:58:00</td>\n",
       "      <td>0 days 00:27:00</td>\n",
       "      <td>27.0</td>\n",
       "    </tr>\n",
       "    <tr>\n",
       "      <th>2</th>\n",
       "      <td>E4</td>\n",
       "      <td>2.0</td>\n",
       "      <td>2020-04-18 20:32:00</td>\n",
       "      <td>2020-04-18 20:37:00</td>\n",
       "      <td>0 days 00:05:00</td>\n",
       "      <td>5.0</td>\n",
       "    </tr>\n",
       "    <tr>\n",
       "      <th>3</th>\n",
       "      <td>E4</td>\n",
       "      <td>2.0</td>\n",
       "      <td>2020-04-18 19:05:00</td>\n",
       "      <td>2020-04-18 19:11:00</td>\n",
       "      <td>0 days 00:06:00</td>\n",
       "      <td>6.0</td>\n",
       "    </tr>\n",
       "    <tr>\n",
       "      <th>4</th>\n",
       "      <td>7A</td>\n",
       "      <td>2.0</td>\n",
       "      <td>2020-04-18 18:52:00</td>\n",
       "      <td>2020-04-18 19:03:00</td>\n",
       "      <td>0 days 00:11:00</td>\n",
       "      <td>11.0</td>\n",
       "    </tr>\n",
       "    <tr>\n",
       "      <th>...</th>\n",
       "      <td>...</td>\n",
       "      <td>...</td>\n",
       "      <td>...</td>\n",
       "      <td>...</td>\n",
       "      <td>...</td>\n",
       "      <td>...</td>\n",
       "    </tr>\n",
       "    <tr>\n",
       "      <th>240</th>\n",
       "      <td>83</td>\n",
       "      <td>2.0</td>\n",
       "      <td>2020-12-13 05:05:00</td>\n",
       "      <td>2020-12-13 05:50:00</td>\n",
       "      <td>0 days 00:45:00</td>\n",
       "      <td>45.0</td>\n",
       "    </tr>\n",
       "    <tr>\n",
       "      <th>241</th>\n",
       "      <td>83</td>\n",
       "      <td>2.0</td>\n",
       "      <td>2020-12-13 06:12:00</td>\n",
       "      <td>2020-12-13 08:01:00</td>\n",
       "      <td>0 days 01:49:00</td>\n",
       "      <td>109.0</td>\n",
       "    </tr>\n",
       "    <tr>\n",
       "      <th>242</th>\n",
       "      <td>83</td>\n",
       "      <td>2.0</td>\n",
       "      <td>2020-12-12 02:34:00</td>\n",
       "      <td>2020-12-12 02:48:00</td>\n",
       "      <td>0 days 00:14:00</td>\n",
       "      <td>14.0</td>\n",
       "    </tr>\n",
       "    <tr>\n",
       "      <th>243</th>\n",
       "      <td>83</td>\n",
       "      <td>2.0</td>\n",
       "      <td>2020-12-12 02:54:00</td>\n",
       "      <td>2020-12-12 03:13:00</td>\n",
       "      <td>0 days 00:19:00</td>\n",
       "      <td>19.0</td>\n",
       "    </tr>\n",
       "    <tr>\n",
       "      <th>244</th>\n",
       "      <td>BG</td>\n",
       "      <td>2.0</td>\n",
       "      <td>2020-12-12 01:20:00</td>\n",
       "      <td>2020-12-12 01:38:00</td>\n",
       "      <td>0 days 00:18:00</td>\n",
       "      <td>18.0</td>\n",
       "    </tr>\n",
       "  </tbody>\n",
       "</table>\n",
       "<p>245 rows × 6 columns</p>\n",
       "</div>"
      ],
      "text/plain": [
       "     ID  Stress level      Start datetime        End datetime        datetime  \\\n",
       "0    5C           1.0 2020-04-15 13:00:00 2020-04-15 14:00:00 0 days 01:00:00   \n",
       "1    5C           1.0 2020-04-14 22:31:00 2020-04-14 22:58:00 0 days 00:27:00   \n",
       "2    E4           2.0 2020-04-18 20:32:00 2020-04-18 20:37:00 0 days 00:05:00   \n",
       "3    E4           2.0 2020-04-18 19:05:00 2020-04-18 19:11:00 0 days 00:06:00   \n",
       "4    7A           2.0 2020-04-18 18:52:00 2020-04-18 19:03:00 0 days 00:11:00   \n",
       "..   ..           ...                 ...                 ...             ...   \n",
       "240  83           2.0 2020-12-13 05:05:00 2020-12-13 05:50:00 0 days 00:45:00   \n",
       "241  83           2.0 2020-12-13 06:12:00 2020-12-13 08:01:00 0 days 01:49:00   \n",
       "242  83           2.0 2020-12-12 02:34:00 2020-12-12 02:48:00 0 days 00:14:00   \n",
       "243  83           2.0 2020-12-12 02:54:00 2020-12-12 03:13:00 0 days 00:19:00   \n",
       "244  BG           2.0 2020-12-12 01:20:00 2020-12-12 01:38:00 0 days 00:18:00   \n",
       "\n",
       "      time  \n",
       "0     60.0  \n",
       "1     27.0  \n",
       "2      5.0  \n",
       "3      6.0  \n",
       "4     11.0  \n",
       "..     ...  \n",
       "240   45.0  \n",
       "241  109.0  \n",
       "242   14.0  \n",
       "243   19.0  \n",
       "244   18.0  \n",
       "\n",
       "[245 rows x 6 columns]"
      ]
     },
     "execution_count": 27,
     "metadata": {},
     "output_type": "execute_result"
    }
   ],
   "source": [
    "survey"
   ]
  },
  {
   "cell_type": "code",
   "execution_count": 8,
   "id": "6cbb1b61",
   "metadata": {},
   "outputs": [
    {
     "name": "stdout",
     "output_type": "stream",
     "text": [
      "Zip file extracted and extracted csv's\n",
      "Date Time Created\n",
      "Merging is done\n",
      "Fill null value is done\n",
      "Zip file extracted and extracted csv's\n",
      "Date Time Created\n",
      "Merging is done\n",
      "Fill null value is done\n",
      "Zip file extracted and extracted csv's\n",
      "Date Time Created\n",
      "Merging is done\n",
      "Fill null value is done\n",
      "Zip file extracted and extracted csv's\n",
      "Date Time Created\n",
      "Merging is done\n",
      "Fill null value is done\n",
      "Zip file extracted and extracted csv's\n",
      "Date Time Created\n",
      "Merging is done\n",
      "Fill null value is done\n",
      "Zip file extracted and extracted csv's\n",
      "Date Time Created\n",
      "Merging is done\n",
      "Fill null value is done\n",
      "Zip file extracted and extracted csv's\n",
      "Date Time Created\n",
      "Merging is done\n",
      "Fill null value is done\n",
      "Zip file extracted and extracted csv's\n",
      "Date Time Created\n",
      "Merging is done\n",
      "Fill null value is done\n",
      "Zip file extracted and extracted csv's\n",
      "Date Time Created\n",
      "Merging is done\n",
      "Fill null value is done\n",
      "Zip file extracted and extracted csv's\n",
      "Date Time Created\n",
      "Merging is done\n",
      "Fill null value is done\n",
      "Zip file extracted and extracted csv's\n",
      "Date Time Created\n",
      "Merging is done\n",
      "Fill null value is done\n",
      "Zip file extracted and extracted csv's\n",
      "Date Time Created\n",
      "Merging is done\n",
      "Fill null value is done\n",
      "Zip file extracted and extracted csv's\n",
      "Date Time Created\n",
      "Merging is done\n",
      "Fill null value is done\n",
      "Zip file extracted and extracted csv's\n",
      "Date Time Created\n",
      "Merging is done\n",
      "Fill null value is done\n",
      "Zip file extracted and extracted csv's\n",
      "Date Time Created\n",
      "Merging is done\n",
      "Fill null value is done\n",
      "Zip file extracted and extracted csv's\n",
      "Date Time Created\n",
      "Merging is done\n",
      "Fill null value is done\n",
      "Zip file extracted and extracted csv's\n",
      "Date Time Created\n",
      "Merging is done\n",
      "Fill null value is done\n",
      "Zip file extracted and extracted csv's\n",
      "Date Time Created\n",
      "Merging is done\n",
      "Fill null value is done\n",
      "Zip file extracted and extracted csv's\n",
      "Date Time Created\n",
      "Merging is done\n",
      "Fill null value is done\n",
      "Zip file extracted and extracted csv's\n",
      "Date Time Created\n",
      "Merging is done\n",
      "Fill null value is done\n",
      "Zip file extracted and extracted csv's\n",
      "Date Time Created\n",
      "Merging is done\n",
      "Fill null value is done\n",
      "Zip file extracted and extracted csv's\n",
      "Date Time Created\n",
      "Merging is done\n",
      "Fill null value is done\n",
      "Zip file extracted and extracted csv's\n",
      "Date Time Created\n",
      "Merging is done\n",
      "Fill null value is done\n",
      "Zip file extracted and extracted csv's\n",
      "Date Time Created\n",
      "Merging is done\n",
      "Fill null value is done\n",
      "Zip file extracted and extracted csv's\n",
      "Date Time Created\n",
      "Merging is done\n",
      "Fill null value is done\n",
      "Zip file extracted and extracted csv's\n",
      "Date Time Created\n",
      "Merging is done\n",
      "Fill null value is done\n",
      "Zip file extracted and extracted csv's\n",
      "Date Time Created\n",
      "Merging is done\n",
      "Fill null value is done\n",
      "Zip file extracted and extracted csv's\n",
      "Date Time Created\n",
      "Merging is done\n",
      "Fill null value is done\n",
      "Zip file extracted and extracted csv's\n",
      "Date Time Created\n",
      "Merging is done\n",
      "Fill null value is done\n",
      "Zip file extracted and extracted csv's\n",
      "Date Time Created\n",
      "Merging is done\n",
      "Fill null value is done\n",
      "Zip file extracted and extracted csv's\n",
      "Date Time Created\n",
      "Merging is done\n",
      "Fill null value is done\n",
      "Zip file extracted and extracted csv's\n",
      "Date Time Created\n",
      "Merging is done\n",
      "Fill null value is done\n",
      "Zip file extracted and extracted csv's\n",
      "Date Time Created\n",
      "Merging is done\n",
      "Fill null value is done\n",
      "Zip file extracted and extracted csv's\n",
      "Date Time Created\n",
      "Merging is done\n",
      "Fill null value is done\n",
      "Zip file extracted and extracted csv's\n",
      "Date Time Created\n",
      "Merging is done\n",
      "Fill null value is done\n",
      "Zip file extracted and extracted csv's\n",
      "Date Time Created\n",
      "Merging is done\n",
      "Fill null value is done\n",
      "Zip file extracted and extracted csv's\n",
      "Date Time Created\n",
      "Merging is done\n",
      "Fill null value is done\n",
      "Zip file extracted and extracted csv's\n",
      "Date Time Created\n",
      "Merging is done\n",
      "Fill null value is done\n",
      "Zip file extracted and extracted csv's\n",
      "Date Time Created\n",
      "Merging is done\n",
      "Fill null value is done\n",
      "Zip file extracted and extracted csv's\n",
      "Date Time Created\n",
      "Merging is done\n",
      "Fill null value is done\n",
      "Zip file extracted and extracted csv's\n",
      "Date Time Created\n",
      "Merging is done\n",
      "Fill null value is done\n",
      "Zip file extracted and extracted csv's\n",
      "Date Time Created\n",
      "Merging is done\n",
      "Fill null value is done\n",
      "Zip file extracted and extracted csv's\n",
      "Date Time Created\n",
      "Merging is done\n",
      "Fill null value is done\n",
      "0  :- is Done\n",
      "DONE\n"
     ]
    }
   ],
   "source": [
    "df = pd.DataFrame()\n",
    "\n",
    "#Creating date time based on individual columns of time, date, start time, end time etc.\n",
    "survey = pd.read_excel(r'C:\\Users\\pc\\Desktop\\Data Science A2\\FAREED\\SurveyResults.xlsx', usecols=['ID', 'Start time', 'End time', 'date', 'Stress level'], dtype={'ID': str})\n",
    "survey['Stress level'].replace('na', np.nan, inplace=True)\n",
    "survey.dropna(inplace=True)\n",
    "\n",
    "survey['Start datetime'] =  pd.to_datetime(survey['date'].map(str) + ' ' + survey['Start time'].map(str))\n",
    "survey['End datetime'] =  pd.to_datetime(survey['date'].map(str) + ' ' + survey['End time'].map(str))\n",
    "survey.drop(['Start time', 'End time', 'date'], axis=1, inplace=True)\n",
    "\n",
    "# Convert SurveyResults.xlsx to GMT-00:00\n",
    "daylight = pd.to_datetime(datetime(2020, 11, 1, 0, 0))\n",
    "\n",
    "survey1 = survey[survey['End datetime'] <= daylight].copy()\n",
    "survey1['Start datetime'] = survey1['Start datetime'].apply(lambda x: x + timedelta(hours=5))\n",
    "survey1['End datetime'] = survey1['End datetime'].apply(lambda x: x + timedelta(hours=5))\n",
    "\n",
    "survey2 = survey.loc[survey['End datetime'] > daylight].copy()\n",
    "survey2['Start datetime'] = survey2['Start datetime'].apply(lambda x: x + timedelta(hours=6))\n",
    "survey2['End datetime'] = survey2['End datetime'].apply(lambda x: x + timedelta(hours=6))\n",
    "\n",
    "survey = pd.concat([survey1, survey2], ignore_index=True)\n",
    "survey['datetime'] = survey['End datetime'] - survey['Start datetime']\n",
    "\n",
    "#Creating minutes columns for labeling \n",
    "def minutes(x):\n",
    "    return x.seconds/60\n",
    "survey['time'] = survey['datetime'].apply(minutes)\n",
    "survey.reset_index(drop=True, inplace=True)\n",
    "\n",
    "#\"\"\"Glob will help us access to all folders inside the specified location\"\"\"\n",
    "folders = glob.glob(os.path.join(\"Data/*\"))\n",
    "\n",
    "i = 0\n",
    "#\"\"\"Looping through the folders so we can get all the data one by one and merge it into one single csv\"\"\"\n",
    "while i < len(folders):\n",
    "    \n",
    "    #only running for one file. rest all fines is same\n",
    "    if i == 1:\n",
    "        break\n",
    "    \n",
    "    folder = folders[i]\n",
    "    #\"\"\"Glob will help us access to all the files inside the folder\"\"\"\n",
    "    files = glob.glob(os.path.join(folder, '*.zip'))\n",
    "    #\"\"\"creating new dataframe to append all the data from each folder\"\"\"\n",
    "    joined_list = pd.DataFrame()\n",
    "    j = 0\n",
    "    \n",
    "    #\"\"\"looping through each files to unzip because each folder have multiple zip files and each zip file have\n",
    "    #multiple csv we need to merge\"\"\"\n",
    "    while j < len(files):\n",
    "        file = files[j]\n",
    "        \n",
    "        #\"\"\"zipfile helps us unzip the files and access the csv. it will unzip in the .ipynb directory\"\"\"\n",
    "        with zipfile.ZipFile(file) as zf:\n",
    "            zf.extractall()\n",
    "            #\"\"\"accessing the data\"\"\"\n",
    "            acc = pd.read_csv('ACC.csv', index_col=None, header=0)\n",
    "            bvp = pd.read_csv('BVP.csv', index_col=None, header=0)\n",
    "            eda = pd.read_csv('EDA.csv', index_col=None, header=0)\n",
    "            hr = pd.read_csv('HR.csv', index_col=None, header=0)\n",
    "            temp = pd.read_csv('TEMP.csv', index_col=None, header=0)\n",
    "\n",
    "            acc = acc.rename(columns={acc.columns[0]: 'acx', acc.columns[1]: 'acy', acc.columns[2]: 'acz'})\n",
    "            bvp = bvp.rename(columns={bvp.columns[0]: 'blood_vol_pulse'})\n",
    "            eda = eda.rename(columns={eda.columns[0]: 'eda'})\n",
    "            hr = hr.rename(columns={hr.columns[0]: 'h_rate'})\n",
    "            temp = temp.rename(columns={temp.columns[0]: 'temp'})\n",
    "            print(\"Zip file extracted and extracted csv's\")\n",
    "            \n",
    "            #Creating DateTime attribute for each dataset\n",
    "\n",
    "            def process_df(df):\n",
    "                start_timestamp = df.iloc[0,0]\n",
    "                sample_rate = df.iloc[1,0]\n",
    "                new_df = pd.DataFrame(df.iloc[2:].values, columns=df.columns)\n",
    "                new_df['datetime'] = [(start_timestamp + i/sample_rate) for i in range(len(new_df))]\n",
    "                return new_df\n",
    "            \n",
    "            acc = process_df(acc)\n",
    "            bvp = process_df(bvp)\n",
    "            eda = process_df(eda)\n",
    "            hr = process_df(hr)\n",
    "            temp = process_df(temp)\n",
    "            print('Date Time Created')\n",
    "\n",
    "            #Merging the Data #taken from original code because this was the best feasible method\n",
    "            joined = acc.merge(eda, on='datetime', how='outer')\n",
    "            joined = joined.merge(hr, on='datetime', how='outer')\n",
    "            joined = joined.merge(temp, on='datetime', how='outer')\n",
    "            print('Merging is done')\n",
    "            \n",
    "            #Fill all the null value by forward fill and backward fill instead of removing and losing the data\n",
    "            \n",
    "            joined.fillna(method='ffill', inplace=True)\n",
    "            joined.fillna(method='bfill', inplace=True)\n",
    "            joined.reset_index(inplace = True,drop = True)\n",
    "            print('Fill null value is done')\n",
    "            \n",
    "            #\"\"\"appending the data of each folder to the variable\"\"\"\n",
    "            joined_list = joined_list.append(joined)\n",
    "                 \n",
    "        j += 1\n",
    "        joined_list['id'] = folders[i][-2:]\n",
    "    #\"\"\"concating the folders together to final dataframe to save the csv at the end\"\"\"\n",
    "    df = pd.concat([df,joined_list],ignore_index = True).reset_index(drop=True)\n",
    "    \n",
    "    print(i, ' :- is Done')\n",
    "    i += 1\n",
    "    \n",
    "print('DONE')"
   ]
  },
  {
   "cell_type": "code",
   "execution_count": 9,
   "id": "9330452a",
   "metadata": {},
   "outputs": [
    {
     "data": {
      "text/html": [
       "<div>\n",
       "<style scoped>\n",
       "    .dataframe tbody tr th:only-of-type {\n",
       "        vertical-align: middle;\n",
       "    }\n",
       "\n",
       "    .dataframe tbody tr th {\n",
       "        vertical-align: top;\n",
       "    }\n",
       "\n",
       "    .dataframe thead th {\n",
       "        text-align: right;\n",
       "    }\n",
       "</style>\n",
       "<table border=\"1\" class=\"dataframe\">\n",
       "  <thead>\n",
       "    <tr style=\"text-align: right;\">\n",
       "      <th></th>\n",
       "      <th>acx</th>\n",
       "      <th>acy</th>\n",
       "      <th>acz</th>\n",
       "      <th>datetime</th>\n",
       "      <th>eda</th>\n",
       "      <th>h_rate</th>\n",
       "      <th>temp</th>\n",
       "      <th>id</th>\n",
       "    </tr>\n",
       "  </thead>\n",
       "  <tbody>\n",
       "    <tr>\n",
       "      <th>0</th>\n",
       "      <td>-57.0</td>\n",
       "      <td>7.0</td>\n",
       "      <td>-30.0</td>\n",
       "      <td>32.000000</td>\n",
       "      <td>0.032035</td>\n",
       "      <td>81.73</td>\n",
       "      <td>30.13</td>\n",
       "      <td>15</td>\n",
       "    </tr>\n",
       "    <tr>\n",
       "      <th>1</th>\n",
       "      <td>-57.0</td>\n",
       "      <td>7.0</td>\n",
       "      <td>-30.0</td>\n",
       "      <td>31.982456</td>\n",
       "      <td>0.032035</td>\n",
       "      <td>81.73</td>\n",
       "      <td>30.13</td>\n",
       "      <td>15</td>\n",
       "    </tr>\n",
       "    <tr>\n",
       "      <th>2</th>\n",
       "      <td>-57.0</td>\n",
       "      <td>7.0</td>\n",
       "      <td>-31.0</td>\n",
       "      <td>31.964912</td>\n",
       "      <td>0.032035</td>\n",
       "      <td>81.73</td>\n",
       "      <td>30.13</td>\n",
       "      <td>15</td>\n",
       "    </tr>\n",
       "    <tr>\n",
       "      <th>3</th>\n",
       "      <td>-57.0</td>\n",
       "      <td>7.0</td>\n",
       "      <td>-32.0</td>\n",
       "      <td>31.947368</td>\n",
       "      <td>0.032035</td>\n",
       "      <td>81.73</td>\n",
       "      <td>30.13</td>\n",
       "      <td>15</td>\n",
       "    </tr>\n",
       "    <tr>\n",
       "      <th>4</th>\n",
       "      <td>-56.0</td>\n",
       "      <td>7.0</td>\n",
       "      <td>-31.0</td>\n",
       "      <td>31.929825</td>\n",
       "      <td>0.032035</td>\n",
       "      <td>81.73</td>\n",
       "      <td>30.13</td>\n",
       "      <td>15</td>\n",
       "    </tr>\n",
       "    <tr>\n",
       "      <th>...</th>\n",
       "      <td>...</td>\n",
       "      <td>...</td>\n",
       "      <td>...</td>\n",
       "      <td>...</td>\n",
       "      <td>...</td>\n",
       "      <td>...</td>\n",
       "      <td>...</td>\n",
       "      <td>...</td>\n",
       "    </tr>\n",
       "    <tr>\n",
       "      <th>266082</th>\n",
       "      <td>-52.0</td>\n",
       "      <td>8.0</td>\n",
       "      <td>-39.0</td>\n",
       "      <td>838.522662</td>\n",
       "      <td>6.239614</td>\n",
       "      <td>117.83</td>\n",
       "      <td>31.75</td>\n",
       "      <td>15</td>\n",
       "    </tr>\n",
       "    <tr>\n",
       "      <th>266083</th>\n",
       "      <td>-52.0</td>\n",
       "      <td>8.0</td>\n",
       "      <td>-39.0</td>\n",
       "      <td>838.554806</td>\n",
       "      <td>6.239614</td>\n",
       "      <td>117.83</td>\n",
       "      <td>31.75</td>\n",
       "      <td>15</td>\n",
       "    </tr>\n",
       "    <tr>\n",
       "      <th>266084</th>\n",
       "      <td>-52.0</td>\n",
       "      <td>8.0</td>\n",
       "      <td>-39.0</td>\n",
       "      <td>838.586950</td>\n",
       "      <td>6.239614</td>\n",
       "      <td>117.83</td>\n",
       "      <td>31.75</td>\n",
       "      <td>15</td>\n",
       "    </tr>\n",
       "    <tr>\n",
       "      <th>266085</th>\n",
       "      <td>-52.0</td>\n",
       "      <td>8.0</td>\n",
       "      <td>-39.0</td>\n",
       "      <td>838.619094</td>\n",
       "      <td>6.239614</td>\n",
       "      <td>117.83</td>\n",
       "      <td>31.75</td>\n",
       "      <td>15</td>\n",
       "    </tr>\n",
       "    <tr>\n",
       "      <th>266086</th>\n",
       "      <td>-52.0</td>\n",
       "      <td>8.0</td>\n",
       "      <td>-39.0</td>\n",
       "      <td>838.651238</td>\n",
       "      <td>6.239614</td>\n",
       "      <td>117.83</td>\n",
       "      <td>31.75</td>\n",
       "      <td>15</td>\n",
       "    </tr>\n",
       "  </tbody>\n",
       "</table>\n",
       "<p>10760373 rows × 8 columns</p>\n",
       "</div>"
      ],
      "text/plain": [
       "         acx  acy   acz    datetime       eda  h_rate   temp  id\n",
       "0      -57.0  7.0 -30.0   32.000000  0.032035   81.73  30.13  15\n",
       "1      -57.0  7.0 -30.0   31.982456  0.032035   81.73  30.13  15\n",
       "2      -57.0  7.0 -31.0   31.964912  0.032035   81.73  30.13  15\n",
       "3      -57.0  7.0 -32.0   31.947368  0.032035   81.73  30.13  15\n",
       "4      -56.0  7.0 -31.0   31.929825  0.032035   81.73  30.13  15\n",
       "...      ...  ...   ...         ...       ...     ...    ...  ..\n",
       "266082 -52.0  8.0 -39.0  838.522662  6.239614  117.83  31.75  15\n",
       "266083 -52.0  8.0 -39.0  838.554806  6.239614  117.83  31.75  15\n",
       "266084 -52.0  8.0 -39.0  838.586950  6.239614  117.83  31.75  15\n",
       "266085 -52.0  8.0 -39.0  838.619094  6.239614  117.83  31.75  15\n",
       "266086 -52.0  8.0 -39.0  838.651238  6.239614  117.83  31.75  15\n",
       "\n",
       "[10760373 rows x 8 columns]"
      ]
     },
     "execution_count": 9,
     "metadata": {},
     "output_type": "execute_result"
    }
   ],
   "source": [
    "joined_list"
   ]
  },
  {
   "cell_type": "code",
   "execution_count": 13,
   "id": "84e09653",
   "metadata": {},
   "outputs": [],
   "source": [
    "df = pd.DataFrame()"
   ]
  },
  {
   "cell_type": "code",
   "execution_count": 14,
   "id": "91143852",
   "metadata": {},
   "outputs": [],
   "source": [
    "#labeling only 15th folder because computation will take 2 hours. remaining are folders are same.\n",
    "def labeling(x):\n",
    "    if x>survey.time.max():\n",
    "        return 2\n",
    "    else:\n",
    "        return 0\n",
    "joined_list['Label'] = joined_list['datetime'].apply(labeling)"
   ]
  },
  {
   "cell_type": "code",
   "execution_count": 15,
   "id": "3dbde1da",
   "metadata": {},
   "outputs": [],
   "source": [
    "#temporary asign for analysis\n",
    "df = joined_list.copy()"
   ]
  },
  {
   "cell_type": "code",
   "execution_count": 16,
   "id": "c6e6ed02",
   "metadata": {},
   "outputs": [
    {
     "data": {
      "text/html": [
       "<div>\n",
       "<style scoped>\n",
       "    .dataframe tbody tr th:only-of-type {\n",
       "        vertical-align: middle;\n",
       "    }\n",
       "\n",
       "    .dataframe tbody tr th {\n",
       "        vertical-align: top;\n",
       "    }\n",
       "\n",
       "    .dataframe thead th {\n",
       "        text-align: right;\n",
       "    }\n",
       "</style>\n",
       "<table border=\"1\" class=\"dataframe\">\n",
       "  <thead>\n",
       "    <tr style=\"text-align: right;\">\n",
       "      <th></th>\n",
       "      <th>acx</th>\n",
       "      <th>acy</th>\n",
       "      <th>acz</th>\n",
       "      <th>datetime</th>\n",
       "      <th>eda</th>\n",
       "      <th>h_rate</th>\n",
       "      <th>temp</th>\n",
       "      <th>id</th>\n",
       "      <th>Label</th>\n",
       "    </tr>\n",
       "  </thead>\n",
       "  <tbody>\n",
       "    <tr>\n",
       "      <th>0</th>\n",
       "      <td>-57.0</td>\n",
       "      <td>7.0</td>\n",
       "      <td>-30.0</td>\n",
       "      <td>32.000000</td>\n",
       "      <td>0.032035</td>\n",
       "      <td>81.73</td>\n",
       "      <td>30.13</td>\n",
       "      <td>15</td>\n",
       "      <td>0</td>\n",
       "    </tr>\n",
       "    <tr>\n",
       "      <th>1</th>\n",
       "      <td>-57.0</td>\n",
       "      <td>7.0</td>\n",
       "      <td>-30.0</td>\n",
       "      <td>31.982456</td>\n",
       "      <td>0.032035</td>\n",
       "      <td>81.73</td>\n",
       "      <td>30.13</td>\n",
       "      <td>15</td>\n",
       "      <td>0</td>\n",
       "    </tr>\n",
       "    <tr>\n",
       "      <th>2</th>\n",
       "      <td>-57.0</td>\n",
       "      <td>7.0</td>\n",
       "      <td>-31.0</td>\n",
       "      <td>31.964912</td>\n",
       "      <td>0.032035</td>\n",
       "      <td>81.73</td>\n",
       "      <td>30.13</td>\n",
       "      <td>15</td>\n",
       "      <td>0</td>\n",
       "    </tr>\n",
       "    <tr>\n",
       "      <th>3</th>\n",
       "      <td>-57.0</td>\n",
       "      <td>7.0</td>\n",
       "      <td>-32.0</td>\n",
       "      <td>31.947368</td>\n",
       "      <td>0.032035</td>\n",
       "      <td>81.73</td>\n",
       "      <td>30.13</td>\n",
       "      <td>15</td>\n",
       "      <td>0</td>\n",
       "    </tr>\n",
       "    <tr>\n",
       "      <th>4</th>\n",
       "      <td>-56.0</td>\n",
       "      <td>7.0</td>\n",
       "      <td>-31.0</td>\n",
       "      <td>31.929825</td>\n",
       "      <td>0.032035</td>\n",
       "      <td>81.73</td>\n",
       "      <td>30.13</td>\n",
       "      <td>15</td>\n",
       "      <td>0</td>\n",
       "    </tr>\n",
       "    <tr>\n",
       "      <th>...</th>\n",
       "      <td>...</td>\n",
       "      <td>...</td>\n",
       "      <td>...</td>\n",
       "      <td>...</td>\n",
       "      <td>...</td>\n",
       "      <td>...</td>\n",
       "      <td>...</td>\n",
       "      <td>...</td>\n",
       "      <td>...</td>\n",
       "    </tr>\n",
       "    <tr>\n",
       "      <th>266082</th>\n",
       "      <td>-52.0</td>\n",
       "      <td>8.0</td>\n",
       "      <td>-39.0</td>\n",
       "      <td>838.522662</td>\n",
       "      <td>6.239614</td>\n",
       "      <td>117.83</td>\n",
       "      <td>31.75</td>\n",
       "      <td>15</td>\n",
       "      <td>2</td>\n",
       "    </tr>\n",
       "    <tr>\n",
       "      <th>266083</th>\n",
       "      <td>-52.0</td>\n",
       "      <td>8.0</td>\n",
       "      <td>-39.0</td>\n",
       "      <td>838.554806</td>\n",
       "      <td>6.239614</td>\n",
       "      <td>117.83</td>\n",
       "      <td>31.75</td>\n",
       "      <td>15</td>\n",
       "      <td>2</td>\n",
       "    </tr>\n",
       "    <tr>\n",
       "      <th>266084</th>\n",
       "      <td>-52.0</td>\n",
       "      <td>8.0</td>\n",
       "      <td>-39.0</td>\n",
       "      <td>838.586950</td>\n",
       "      <td>6.239614</td>\n",
       "      <td>117.83</td>\n",
       "      <td>31.75</td>\n",
       "      <td>15</td>\n",
       "      <td>2</td>\n",
       "    </tr>\n",
       "    <tr>\n",
       "      <th>266085</th>\n",
       "      <td>-52.0</td>\n",
       "      <td>8.0</td>\n",
       "      <td>-39.0</td>\n",
       "      <td>838.619094</td>\n",
       "      <td>6.239614</td>\n",
       "      <td>117.83</td>\n",
       "      <td>31.75</td>\n",
       "      <td>15</td>\n",
       "      <td>2</td>\n",
       "    </tr>\n",
       "    <tr>\n",
       "      <th>266086</th>\n",
       "      <td>-52.0</td>\n",
       "      <td>8.0</td>\n",
       "      <td>-39.0</td>\n",
       "      <td>838.651238</td>\n",
       "      <td>6.239614</td>\n",
       "      <td>117.83</td>\n",
       "      <td>31.75</td>\n",
       "      <td>15</td>\n",
       "      <td>2</td>\n",
       "    </tr>\n",
       "  </tbody>\n",
       "</table>\n",
       "<p>10760373 rows × 9 columns</p>\n",
       "</div>"
      ],
      "text/plain": [
       "         acx  acy   acz    datetime       eda  h_rate   temp  id  Label\n",
       "0      -57.0  7.0 -30.0   32.000000  0.032035   81.73  30.13  15      0\n",
       "1      -57.0  7.0 -30.0   31.982456  0.032035   81.73  30.13  15      0\n",
       "2      -57.0  7.0 -31.0   31.964912  0.032035   81.73  30.13  15      0\n",
       "3      -57.0  7.0 -32.0   31.947368  0.032035   81.73  30.13  15      0\n",
       "4      -56.0  7.0 -31.0   31.929825  0.032035   81.73  30.13  15      0\n",
       "...      ...  ...   ...         ...       ...     ...    ...  ..    ...\n",
       "266082 -52.0  8.0 -39.0  838.522662  6.239614  117.83  31.75  15      2\n",
       "266083 -52.0  8.0 -39.0  838.554806  6.239614  117.83  31.75  15      2\n",
       "266084 -52.0  8.0 -39.0  838.586950  6.239614  117.83  31.75  15      2\n",
       "266085 -52.0  8.0 -39.0  838.619094  6.239614  117.83  31.75  15      2\n",
       "266086 -52.0  8.0 -39.0  838.651238  6.239614  117.83  31.75  15      2\n",
       "\n",
       "[10760373 rows x 9 columns]"
      ]
     },
     "execution_count": 16,
     "metadata": {},
     "output_type": "execute_result"
    }
   ],
   "source": [
    "df"
   ]
  },
  {
   "cell_type": "code",
   "execution_count": 17,
   "id": "bb523159",
   "metadata": {},
   "outputs": [
    {
     "data": {
      "text/plain": [
       "817259"
      ]
     },
     "execution_count": 17,
     "metadata": {},
     "output_type": "execute_result"
    }
   ],
   "source": [
    "#\"\"\"Singular duplicate value checker\"\"\"\n",
    "df.duplicated().sum()"
   ]
  },
  {
   "cell_type": "code",
   "execution_count": 18,
   "id": "69b4146e",
   "metadata": {},
   "outputs": [],
   "source": [
    "#\"\"\"Dropping duplicates values\"\"\"\n",
    "df = df.drop_duplicates().reset_index(drop = True)"
   ]
  },
  {
   "cell_type": "code",
   "execution_count": 19,
   "id": "4605aea2",
   "metadata": {},
   "outputs": [],
   "source": [
    "#\"\"\"Dropping nan values which was replaced for ibi csv which was empty for some zip files\"\"\"\n",
    "df.dropna(inplace = True)"
   ]
  },
  {
   "cell_type": "code",
   "execution_count": 20,
   "id": "092139aa",
   "metadata": {},
   "outputs": [],
   "source": [
    "#\"\"\"Saving the CSV so we can avoid multiple execution repeatatively\"\"\"\n",
    "df.to_csv('allData.csv')"
   ]
  },
  {
   "cell_type": "markdown",
   "id": "c7c647c9",
   "metadata": {},
   "source": [
    "# Data Preprocessing and Extraction is completed "
   ]
  },
  {
   "cell_type": "code",
   "execution_count": 3,
   "id": "3a8bc53e",
   "metadata": {},
   "outputs": [],
   "source": [
    "import pandas as pd\n",
    "import numpy as np\n",
    "import math\n",
    "import seaborn as sns\n",
    "import matplotlib.pyplot as plt\n",
    "import os\n",
    "import gc\n",
    "\n",
    "from sklearn.metrics import classification_report"
   ]
  },
  {
   "cell_type": "code",
   "execution_count": 4,
   "id": "0767da0a",
   "metadata": {},
   "outputs": [
    {
     "data": {
      "text/html": [
       "<div>\n",
       "<style scoped>\n",
       "    .dataframe tbody tr th:only-of-type {\n",
       "        vertical-align: middle;\n",
       "    }\n",
       "\n",
       "    .dataframe tbody tr th {\n",
       "        vertical-align: top;\n",
       "    }\n",
       "\n",
       "    .dataframe thead th {\n",
       "        text-align: right;\n",
       "    }\n",
       "</style>\n",
       "<table border=\"1\" class=\"dataframe\">\n",
       "  <thead>\n",
       "    <tr style=\"text-align: right;\">\n",
       "      <th></th>\n",
       "      <th>Unnamed: 0</th>\n",
       "      <th>acx</th>\n",
       "      <th>acy</th>\n",
       "      <th>acz</th>\n",
       "      <th>datetime</th>\n",
       "      <th>eda</th>\n",
       "      <th>h_rate</th>\n",
       "      <th>temp</th>\n",
       "      <th>id</th>\n",
       "      <th>Label</th>\n",
       "    </tr>\n",
       "  </thead>\n",
       "  <tbody>\n",
       "    <tr>\n",
       "      <th>0</th>\n",
       "      <td>0</td>\n",
       "      <td>-57.0</td>\n",
       "      <td>7.0</td>\n",
       "      <td>-30.0</td>\n",
       "      <td>32.000000</td>\n",
       "      <td>0.032035</td>\n",
       "      <td>81.73</td>\n",
       "      <td>30.13</td>\n",
       "      <td>15</td>\n",
       "      <td>0</td>\n",
       "    </tr>\n",
       "    <tr>\n",
       "      <th>1</th>\n",
       "      <td>1</td>\n",
       "      <td>-57.0</td>\n",
       "      <td>7.0</td>\n",
       "      <td>-30.0</td>\n",
       "      <td>31.982456</td>\n",
       "      <td>0.032035</td>\n",
       "      <td>81.73</td>\n",
       "      <td>30.13</td>\n",
       "      <td>15</td>\n",
       "      <td>0</td>\n",
       "    </tr>\n",
       "    <tr>\n",
       "      <th>2</th>\n",
       "      <td>2</td>\n",
       "      <td>-57.0</td>\n",
       "      <td>7.0</td>\n",
       "      <td>-31.0</td>\n",
       "      <td>31.964912</td>\n",
       "      <td>0.032035</td>\n",
       "      <td>81.73</td>\n",
       "      <td>30.13</td>\n",
       "      <td>15</td>\n",
       "      <td>0</td>\n",
       "    </tr>\n",
       "    <tr>\n",
       "      <th>3</th>\n",
       "      <td>3</td>\n",
       "      <td>-57.0</td>\n",
       "      <td>7.0</td>\n",
       "      <td>-32.0</td>\n",
       "      <td>31.947368</td>\n",
       "      <td>0.032035</td>\n",
       "      <td>81.73</td>\n",
       "      <td>30.13</td>\n",
       "      <td>15</td>\n",
       "      <td>0</td>\n",
       "    </tr>\n",
       "    <tr>\n",
       "      <th>4</th>\n",
       "      <td>4</td>\n",
       "      <td>-56.0</td>\n",
       "      <td>7.0</td>\n",
       "      <td>-31.0</td>\n",
       "      <td>31.929825</td>\n",
       "      <td>0.032035</td>\n",
       "      <td>81.73</td>\n",
       "      <td>30.13</td>\n",
       "      <td>15</td>\n",
       "      <td>0</td>\n",
       "    </tr>\n",
       "    <tr>\n",
       "      <th>...</th>\n",
       "      <td>...</td>\n",
       "      <td>...</td>\n",
       "      <td>...</td>\n",
       "      <td>...</td>\n",
       "      <td>...</td>\n",
       "      <td>...</td>\n",
       "      <td>...</td>\n",
       "      <td>...</td>\n",
       "      <td>...</td>\n",
       "      <td>...</td>\n",
       "    </tr>\n",
       "    <tr>\n",
       "      <th>9943109</th>\n",
       "      <td>9943109</td>\n",
       "      <td>-52.0</td>\n",
       "      <td>8.0</td>\n",
       "      <td>-39.0</td>\n",
       "      <td>838.522662</td>\n",
       "      <td>6.239614</td>\n",
       "      <td>117.83</td>\n",
       "      <td>31.75</td>\n",
       "      <td>15</td>\n",
       "      <td>2</td>\n",
       "    </tr>\n",
       "    <tr>\n",
       "      <th>9943110</th>\n",
       "      <td>9943110</td>\n",
       "      <td>-52.0</td>\n",
       "      <td>8.0</td>\n",
       "      <td>-39.0</td>\n",
       "      <td>838.554806</td>\n",
       "      <td>6.239614</td>\n",
       "      <td>117.83</td>\n",
       "      <td>31.75</td>\n",
       "      <td>15</td>\n",
       "      <td>2</td>\n",
       "    </tr>\n",
       "    <tr>\n",
       "      <th>9943111</th>\n",
       "      <td>9943111</td>\n",
       "      <td>-52.0</td>\n",
       "      <td>8.0</td>\n",
       "      <td>-39.0</td>\n",
       "      <td>838.586950</td>\n",
       "      <td>6.239614</td>\n",
       "      <td>117.83</td>\n",
       "      <td>31.75</td>\n",
       "      <td>15</td>\n",
       "      <td>2</td>\n",
       "    </tr>\n",
       "    <tr>\n",
       "      <th>9943112</th>\n",
       "      <td>9943112</td>\n",
       "      <td>-52.0</td>\n",
       "      <td>8.0</td>\n",
       "      <td>-39.0</td>\n",
       "      <td>838.619094</td>\n",
       "      <td>6.239614</td>\n",
       "      <td>117.83</td>\n",
       "      <td>31.75</td>\n",
       "      <td>15</td>\n",
       "      <td>2</td>\n",
       "    </tr>\n",
       "    <tr>\n",
       "      <th>9943113</th>\n",
       "      <td>9943113</td>\n",
       "      <td>-52.0</td>\n",
       "      <td>8.0</td>\n",
       "      <td>-39.0</td>\n",
       "      <td>838.651238</td>\n",
       "      <td>6.239614</td>\n",
       "      <td>117.83</td>\n",
       "      <td>31.75</td>\n",
       "      <td>15</td>\n",
       "      <td>2</td>\n",
       "    </tr>\n",
       "  </tbody>\n",
       "</table>\n",
       "<p>9943114 rows × 10 columns</p>\n",
       "</div>"
      ],
      "text/plain": [
       "         Unnamed: 0   acx  acy   acz    datetime       eda  h_rate   temp  id  \\\n",
       "0                 0 -57.0  7.0 -30.0   32.000000  0.032035   81.73  30.13  15   \n",
       "1                 1 -57.0  7.0 -30.0   31.982456  0.032035   81.73  30.13  15   \n",
       "2                 2 -57.0  7.0 -31.0   31.964912  0.032035   81.73  30.13  15   \n",
       "3                 3 -57.0  7.0 -32.0   31.947368  0.032035   81.73  30.13  15   \n",
       "4                 4 -56.0  7.0 -31.0   31.929825  0.032035   81.73  30.13  15   \n",
       "...             ...   ...  ...   ...         ...       ...     ...    ...  ..   \n",
       "9943109     9943109 -52.0  8.0 -39.0  838.522662  6.239614  117.83  31.75  15   \n",
       "9943110     9943110 -52.0  8.0 -39.0  838.554806  6.239614  117.83  31.75  15   \n",
       "9943111     9943111 -52.0  8.0 -39.0  838.586950  6.239614  117.83  31.75  15   \n",
       "9943112     9943112 -52.0  8.0 -39.0  838.619094  6.239614  117.83  31.75  15   \n",
       "9943113     9943113 -52.0  8.0 -39.0  838.651238  6.239614  117.83  31.75  15   \n",
       "\n",
       "         Label  \n",
       "0            0  \n",
       "1            0  \n",
       "2            0  \n",
       "3            0  \n",
       "4            0  \n",
       "...        ...  \n",
       "9943109      2  \n",
       "9943110      2  \n",
       "9943111      2  \n",
       "9943112      2  \n",
       "9943113      2  \n",
       "\n",
       "[9943114 rows x 10 columns]"
      ]
     },
     "execution_count": 4,
     "metadata": {},
     "output_type": "execute_result"
    }
   ],
   "source": [
    "#\"\"\"Loading the saved csv which was unzipped and merged from all the folders\"\"\"\n",
    "new_df = pd.read_csv('allData.csv')\n",
    "new_df"
   ]
  },
  {
   "cell_type": "code",
   "execution_count": 5,
   "id": "45d864b7",
   "metadata": {},
   "outputs": [],
   "source": [
    "#\"\"\"dropping unnamed: 0 because it was created when saving .to_csv which could have been avoided by ignore_index\"\"\"\n",
    "new_df.drop({'Unnamed: 0','id'},axis = 1,inplace = True)"
   ]
  },
  {
   "cell_type": "code",
   "execution_count": 6,
   "id": "2381e855",
   "metadata": {},
   "outputs": [
    {
     "data": {
      "text/plain": [
       "0"
      ]
     },
     "execution_count": 6,
     "metadata": {},
     "output_type": "execute_result"
    }
   ],
   "source": [
    "gc.collect()"
   ]
  },
  {
   "cell_type": "code",
   "execution_count": 7,
   "id": "8bdc2f8b",
   "metadata": {},
   "outputs": [
    {
     "data": {
      "text/plain": [
       "acx         0\n",
       "acy         0\n",
       "acz         0\n",
       "datetime    0\n",
       "eda         0\n",
       "h_rate      0\n",
       "temp        0\n",
       "Label       0\n",
       "dtype: int64"
      ]
     },
     "execution_count": 7,
     "metadata": {},
     "output_type": "execute_result"
    }
   ],
   "source": [
    "#\"\"\"singular null value checker\"\"\"\n",
    "new_df.isnull().sum()"
   ]
  },
  {
   "cell_type": "code",
   "execution_count": 8,
   "id": "c14a611a",
   "metadata": {},
   "outputs": [
    {
     "name": "stdout",
     "output_type": "stream",
     "text": [
      "<class 'pandas.core.frame.DataFrame'>\n",
      "RangeIndex: 9943114 entries, 0 to 9943113\n",
      "Data columns (total 8 columns):\n",
      " #   Column    Dtype  \n",
      "---  ------    -----  \n",
      " 0   acx       float64\n",
      " 1   acy       float64\n",
      " 2   acz       float64\n",
      " 3   datetime  float64\n",
      " 4   eda       float64\n",
      " 5   h_rate    float64\n",
      " 6   temp      float64\n",
      " 7   Label     int64  \n",
      "dtypes: float64(7), int64(1)\n",
      "memory usage: 606.9 MB\n"
     ]
    }
   ],
   "source": [
    "#\"\"\"info function to get the null value, columns name, data types etc.\"\"\"\n",
    "new_df.info()"
   ]
  },
  {
   "cell_type": "code",
   "execution_count": 9,
   "id": "851ba3a6",
   "metadata": {},
   "outputs": [
    {
     "data": {
      "text/html": [
       "<div>\n",
       "<style scoped>\n",
       "    .dataframe tbody tr th:only-of-type {\n",
       "        vertical-align: middle;\n",
       "    }\n",
       "\n",
       "    .dataframe tbody tr th {\n",
       "        vertical-align: top;\n",
       "    }\n",
       "\n",
       "    .dataframe thead th {\n",
       "        text-align: right;\n",
       "    }\n",
       "</style>\n",
       "<table border=\"1\" class=\"dataframe\">\n",
       "  <thead>\n",
       "    <tr style=\"text-align: right;\">\n",
       "      <th></th>\n",
       "      <th>acx</th>\n",
       "      <th>acy</th>\n",
       "      <th>acz</th>\n",
       "      <th>datetime</th>\n",
       "      <th>eda</th>\n",
       "      <th>h_rate</th>\n",
       "      <th>temp</th>\n",
       "      <th>Label</th>\n",
       "    </tr>\n",
       "  </thead>\n",
       "  <tbody>\n",
       "    <tr>\n",
       "      <th>count</th>\n",
       "      <td>9.943114e+06</td>\n",
       "      <td>9.943114e+06</td>\n",
       "      <td>9.943114e+06</td>\n",
       "      <td>9.943114e+06</td>\n",
       "      <td>9.943114e+06</td>\n",
       "      <td>9.943114e+06</td>\n",
       "      <td>9.943114e+06</td>\n",
       "      <td>9.943114e+06</td>\n",
       "    </tr>\n",
       "    <tr>\n",
       "      <th>mean</th>\n",
       "      <td>-3.814178e+01</td>\n",
       "      <td>-3.560225e+00</td>\n",
       "      <td>1.521532e+01</td>\n",
       "      <td>inf</td>\n",
       "      <td>6.227242e-01</td>\n",
       "      <td>7.092203e+01</td>\n",
       "      <td>3.166465e+01</td>\n",
       "      <td>2.033337e-01</td>\n",
       "    </tr>\n",
       "    <tr>\n",
       "      <th>std</th>\n",
       "      <td>2.509857e+01</td>\n",
       "      <td>3.441484e+01</td>\n",
       "      <td>3.193485e+01</td>\n",
       "      <td>NaN</td>\n",
       "      <td>1.730963e+00</td>\n",
       "      <td>1.498790e+01</td>\n",
       "      <td>1.665142e+00</td>\n",
       "      <td>6.044194e-01</td>\n",
       "    </tr>\n",
       "    <tr>\n",
       "      <th>min</th>\n",
       "      <td>-1.280000e+02</td>\n",
       "      <td>-1.280000e+02</td>\n",
       "      <td>-1.280000e+02</td>\n",
       "      <td>-2.271388e+04</td>\n",
       "      <td>0.000000e+00</td>\n",
       "      <td>5.050000e+01</td>\n",
       "      <td>2.403000e+01</td>\n",
       "      <td>0.000000e+00</td>\n",
       "    </tr>\n",
       "    <tr>\n",
       "      <th>25%</th>\n",
       "      <td>-5.600000e+01</td>\n",
       "      <td>-2.400000e+01</td>\n",
       "      <td>-8.000000e+00</td>\n",
       "      <td>-4.901773e+03</td>\n",
       "      <td>3.203500e-02</td>\n",
       "      <td>5.950000e+01</td>\n",
       "      <td>3.045000e+01</td>\n",
       "      <td>0.000000e+00</td>\n",
       "    </tr>\n",
       "    <tr>\n",
       "      <th>50%</th>\n",
       "      <td>-4.300000e+01</td>\n",
       "      <td>0.000000e+00</td>\n",
       "      <td>1.800000e+01</td>\n",
       "      <td>-2.030135e+03</td>\n",
       "      <td>2.204020e-01</td>\n",
       "      <td>6.750000e+01</td>\n",
       "      <td>3.147000e+01</td>\n",
       "      <td>0.000000e+00</td>\n",
       "    </tr>\n",
       "    <tr>\n",
       "      <th>75%</th>\n",
       "      <td>-2.800000e+01</td>\n",
       "      <td>1.700000e+01</td>\n",
       "      <td>4.300000e+01</td>\n",
       "      <td>-4.364754e+02</td>\n",
       "      <td>6.907620e-01</td>\n",
       "      <td>8.150000e+01</td>\n",
       "      <td>3.309000e+01</td>\n",
       "      <td>0.000000e+00</td>\n",
       "    </tr>\n",
       "    <tr>\n",
       "      <th>max</th>\n",
       "      <td>1.270000e+02</td>\n",
       "      <td>1.270000e+02</td>\n",
       "      <td>1.270000e+02</td>\n",
       "      <td>inf</td>\n",
       "      <td>4.357153e+01</td>\n",
       "      <td>1.586500e+02</td>\n",
       "      <td>3.637000e+01</td>\n",
       "      <td>2.000000e+00</td>\n",
       "    </tr>\n",
       "  </tbody>\n",
       "</table>\n",
       "</div>"
      ],
      "text/plain": [
       "                acx           acy           acz      datetime           eda  \\\n",
       "count  9.943114e+06  9.943114e+06  9.943114e+06  9.943114e+06  9.943114e+06   \n",
       "mean  -3.814178e+01 -3.560225e+00  1.521532e+01           inf  6.227242e-01   \n",
       "std    2.509857e+01  3.441484e+01  3.193485e+01           NaN  1.730963e+00   \n",
       "min   -1.280000e+02 -1.280000e+02 -1.280000e+02 -2.271388e+04  0.000000e+00   \n",
       "25%   -5.600000e+01 -2.400000e+01 -8.000000e+00 -4.901773e+03  3.203500e-02   \n",
       "50%   -4.300000e+01  0.000000e+00  1.800000e+01 -2.030135e+03  2.204020e-01   \n",
       "75%   -2.800000e+01  1.700000e+01  4.300000e+01 -4.364754e+02  6.907620e-01   \n",
       "max    1.270000e+02  1.270000e+02  1.270000e+02           inf  4.357153e+01   \n",
       "\n",
       "             h_rate          temp         Label  \n",
       "count  9.943114e+06  9.943114e+06  9.943114e+06  \n",
       "mean   7.092203e+01  3.166465e+01  2.033337e-01  \n",
       "std    1.498790e+01  1.665142e+00  6.044194e-01  \n",
       "min    5.050000e+01  2.403000e+01  0.000000e+00  \n",
       "25%    5.950000e+01  3.045000e+01  0.000000e+00  \n",
       "50%    6.750000e+01  3.147000e+01  0.000000e+00  \n",
       "75%    8.150000e+01  3.309000e+01  0.000000e+00  \n",
       "max    1.586500e+02  3.637000e+01  2.000000e+00  "
      ]
     },
     "execution_count": 9,
     "metadata": {},
     "output_type": "execute_result"
    }
   ],
   "source": [
    "#\"\"\"Describe function to get quantile, mean and description of the data\"\"\"\n",
    "new_df.describe()"
   ]
  },
  {
   "cell_type": "code",
   "execution_count": 10,
   "id": "ea4fb8fe",
   "metadata": {},
   "outputs": [
    {
     "data": {
      "image/png": "[encoded data removed]",
      "text/plain": [
       "<Figure size 432x288 with 2 Axes>"
      ]
     },
     "metadata": {
      "needs_background": "light"
     },
     "output_type": "display_data"
    }
   ],
   "source": [
    "sns.heatmap(new_df.isnull(), cmap='viridis')\n",
    "plt.show()"
   ]
  },
  {
   "cell_type": "code",
   "execution_count": 11,
   "id": "937787d2",
   "metadata": {},
   "outputs": [
    {
     "data": {
      "text/plain": [
       "array([0, 2], dtype=int64)"
      ]
     },
     "execution_count": 11,
     "metadata": {},
     "output_type": "execute_result"
    }
   ],
   "source": [
    "new_df['Label'].unique()"
   ]
  },
  {
   "cell_type": "code",
   "execution_count": 12,
   "id": "e0aa008b",
   "metadata": {},
   "outputs": [],
   "source": [
    "#Accidentally made labels 0 and 2 so changing 2 to 1\n",
    "new_df[\"Label\"] = new_df[\"Label\"].replace(2,1)"
   ]
  },
  {
   "cell_type": "code",
   "execution_count": 13,
   "id": "4c082065",
   "metadata": {},
   "outputs": [
    {
     "data": {
      "text/html": [
       "<div>\n",
       "<style scoped>\n",
       "    .dataframe tbody tr th:only-of-type {\n",
       "        vertical-align: middle;\n",
       "    }\n",
       "\n",
       "    .dataframe tbody tr th {\n",
       "        vertical-align: top;\n",
       "    }\n",
       "\n",
       "    .dataframe thead th {\n",
       "        text-align: right;\n",
       "    }\n",
       "</style>\n",
       "<table border=\"1\" class=\"dataframe\">\n",
       "  <thead>\n",
       "    <tr style=\"text-align: right;\">\n",
       "      <th></th>\n",
       "      <th>acx</th>\n",
       "      <th>acy</th>\n",
       "      <th>acz</th>\n",
       "      <th>datetime</th>\n",
       "      <th>eda</th>\n",
       "      <th>h_rate</th>\n",
       "      <th>temp</th>\n",
       "      <th>Label</th>\n",
       "    </tr>\n",
       "  </thead>\n",
       "  <tbody>\n",
       "    <tr>\n",
       "      <th>0</th>\n",
       "      <td>-57.0</td>\n",
       "      <td>7.0</td>\n",
       "      <td>-30.0</td>\n",
       "      <td>32.000000</td>\n",
       "      <td>0.032035</td>\n",
       "      <td>81.73</td>\n",
       "      <td>30.13</td>\n",
       "      <td>0</td>\n",
       "    </tr>\n",
       "    <tr>\n",
       "      <th>1</th>\n",
       "      <td>-57.0</td>\n",
       "      <td>7.0</td>\n",
       "      <td>-30.0</td>\n",
       "      <td>31.982456</td>\n",
       "      <td>0.032035</td>\n",
       "      <td>81.73</td>\n",
       "      <td>30.13</td>\n",
       "      <td>0</td>\n",
       "    </tr>\n",
       "    <tr>\n",
       "      <th>2</th>\n",
       "      <td>-57.0</td>\n",
       "      <td>7.0</td>\n",
       "      <td>-31.0</td>\n",
       "      <td>31.964912</td>\n",
       "      <td>0.032035</td>\n",
       "      <td>81.73</td>\n",
       "      <td>30.13</td>\n",
       "      <td>0</td>\n",
       "    </tr>\n",
       "    <tr>\n",
       "      <th>3</th>\n",
       "      <td>-57.0</td>\n",
       "      <td>7.0</td>\n",
       "      <td>-32.0</td>\n",
       "      <td>31.947368</td>\n",
       "      <td>0.032035</td>\n",
       "      <td>81.73</td>\n",
       "      <td>30.13</td>\n",
       "      <td>0</td>\n",
       "    </tr>\n",
       "    <tr>\n",
       "      <th>4</th>\n",
       "      <td>-56.0</td>\n",
       "      <td>7.0</td>\n",
       "      <td>-31.0</td>\n",
       "      <td>31.929825</td>\n",
       "      <td>0.032035</td>\n",
       "      <td>81.73</td>\n",
       "      <td>30.13</td>\n",
       "      <td>0</td>\n",
       "    </tr>\n",
       "    <tr>\n",
       "      <th>...</th>\n",
       "      <td>...</td>\n",
       "      <td>...</td>\n",
       "      <td>...</td>\n",
       "      <td>...</td>\n",
       "      <td>...</td>\n",
       "      <td>...</td>\n",
       "      <td>...</td>\n",
       "      <td>...</td>\n",
       "    </tr>\n",
       "    <tr>\n",
       "      <th>9943109</th>\n",
       "      <td>-52.0</td>\n",
       "      <td>8.0</td>\n",
       "      <td>-39.0</td>\n",
       "      <td>838.522662</td>\n",
       "      <td>6.239614</td>\n",
       "      <td>117.83</td>\n",
       "      <td>31.75</td>\n",
       "      <td>1</td>\n",
       "    </tr>\n",
       "    <tr>\n",
       "      <th>9943110</th>\n",
       "      <td>-52.0</td>\n",
       "      <td>8.0</td>\n",
       "      <td>-39.0</td>\n",
       "      <td>838.554806</td>\n",
       "      <td>6.239614</td>\n",
       "      <td>117.83</td>\n",
       "      <td>31.75</td>\n",
       "      <td>1</td>\n",
       "    </tr>\n",
       "    <tr>\n",
       "      <th>9943111</th>\n",
       "      <td>-52.0</td>\n",
       "      <td>8.0</td>\n",
       "      <td>-39.0</td>\n",
       "      <td>838.586950</td>\n",
       "      <td>6.239614</td>\n",
       "      <td>117.83</td>\n",
       "      <td>31.75</td>\n",
       "      <td>1</td>\n",
       "    </tr>\n",
       "    <tr>\n",
       "      <th>9943112</th>\n",
       "      <td>-52.0</td>\n",
       "      <td>8.0</td>\n",
       "      <td>-39.0</td>\n",
       "      <td>838.619094</td>\n",
       "      <td>6.239614</td>\n",
       "      <td>117.83</td>\n",
       "      <td>31.75</td>\n",
       "      <td>1</td>\n",
       "    </tr>\n",
       "    <tr>\n",
       "      <th>9943113</th>\n",
       "      <td>-52.0</td>\n",
       "      <td>8.0</td>\n",
       "      <td>-39.0</td>\n",
       "      <td>838.651238</td>\n",
       "      <td>6.239614</td>\n",
       "      <td>117.83</td>\n",
       "      <td>31.75</td>\n",
       "      <td>1</td>\n",
       "    </tr>\n",
       "  </tbody>\n",
       "</table>\n",
       "<p>9943114 rows × 8 columns</p>\n",
       "</div>"
      ],
      "text/plain": [
       "          acx  acy   acz    datetime       eda  h_rate   temp  Label\n",
       "0       -57.0  7.0 -30.0   32.000000  0.032035   81.73  30.13      0\n",
       "1       -57.0  7.0 -30.0   31.982456  0.032035   81.73  30.13      0\n",
       "2       -57.0  7.0 -31.0   31.964912  0.032035   81.73  30.13      0\n",
       "3       -57.0  7.0 -32.0   31.947368  0.032035   81.73  30.13      0\n",
       "4       -56.0  7.0 -31.0   31.929825  0.032035   81.73  30.13      0\n",
       "...       ...  ...   ...         ...       ...     ...    ...    ...\n",
       "9943109 -52.0  8.0 -39.0  838.522662  6.239614  117.83  31.75      1\n",
       "9943110 -52.0  8.0 -39.0  838.554806  6.239614  117.83  31.75      1\n",
       "9943111 -52.0  8.0 -39.0  838.586950  6.239614  117.83  31.75      1\n",
       "9943112 -52.0  8.0 -39.0  838.619094  6.239614  117.83  31.75      1\n",
       "9943113 -52.0  8.0 -39.0  838.651238  6.239614  117.83  31.75      1\n",
       "\n",
       "[9943114 rows x 8 columns]"
      ]
     },
     "execution_count": 13,
     "metadata": {},
     "output_type": "execute_result"
    }
   ],
   "source": [
    "new_df"
   ]
  },
  {
   "cell_type": "code",
   "execution_count": 14,
   "id": "d3ec9274",
   "metadata": {},
   "outputs": [
    {
     "data": {
      "text/plain": [
       "0    8932229\n",
       "1    1010885\n",
       "Name: Label, dtype: int64"
      ]
     },
     "execution_count": 14,
     "metadata": {},
     "output_type": "execute_result"
    }
   ],
   "source": [
    "#\"\"\"dependent variable value check for imbalance data\"\"\" \"\"\"The data is imbalanced\"\"\"\n",
    "new_df['Label'].value_counts()"
   ]
  },
  {
   "cell_type": "code",
   "execution_count": 16,
   "id": "3fc0db1b",
   "metadata": {},
   "outputs": [],
   "source": [
    "#seaborn visulization for explaining the imbalanced data"
   ]
  },
  {
   "cell_type": "code",
   "execution_count": 17,
   "id": "2b83b40c",
   "metadata": {},
   "outputs": [
    {
     "name": "stderr",
     "output_type": "stream",
     "text": [
      "C:\\Users\\pc\\anaconda3\\lib\\site-packages\\seaborn\\_decorators.py:36: FutureWarning: Pass the following variable as a keyword arg: x. From version 0.12, the only valid positional argument will be `data`, and passing other arguments without an explicit keyword will result in an error or misinterpretation.\n",
      "  warnings.warn(\n"
     ]
    },
    {
     "data": {
      "text/plain": [
       "<AxesSubplot:xlabel='Label', ylabel='count'>"
      ]
     },
     "execution_count": 17,
     "metadata": {},
     "output_type": "execute_result"
    },
    {
     "data": {
      "image/png": "[encoded data removed]",
      "text/plain": [
       "<Figure size 432x288 with 1 Axes>"
      ]
     },
     "metadata": {
      "needs_background": "light"
     },
     "output_type": "display_data"
    }
   ],
   "source": [
    "sns.countplot(new_df['Label'])"
   ]
  },
  {
   "cell_type": "code",
   "execution_count": 18,
   "id": "b42bc8a0",
   "metadata": {},
   "outputs": [
    {
     "name": "stdout",
     "output_type": "stream",
     "text": [
      "The Data is Imbalanced and the 0's label is :-  8.836048610870673  Times greater than 1's label\n"
     ]
    }
   ],
   "source": [
    "print(\"The Data is Imbalanced and the 0's label is :- \",float(len(new_df[new_df['Label'] == 0])/len(new_df[new_df['Label'] == 1])),\" Times greater than 1's label\")"
   ]
  },
  {
   "cell_type": "code",
   "execution_count": 19,
   "id": "2d5b4998",
   "metadata": {},
   "outputs": [
    {
     "name": "stdout",
     "output_type": "stream",
     "text": [
      "(8932229, 8)\n",
      "(1010885, 8)\n",
      "(1010885, 8)\n"
     ]
    }
   ],
   "source": [
    "#Downsampling 0's to balance the data to match 1's shape\n",
    "from sklearn.utils import resample\n",
    "\n",
    "zeros = new_df[new_df['Label'] == 0]\n",
    "ones = new_df[new_df['Label'] == 1]\n",
    "\n",
    "print(zeros.shape)\n",
    "print(ones.shape)\n",
    "\n",
    "zeros_downsample = resample(zeros, replace=True, n_samples=len(ones), random_state=42)\n",
    "\n",
    "print(zeros_downsample.shape)\n",
    "\n",
    "final_df = pd.concat([zeros_downsample, ones])"
   ]
  },
  {
   "cell_type": "code",
   "execution_count": 21,
   "id": "1007a1ea",
   "metadata": {},
   "outputs": [
    {
     "name": "stderr",
     "output_type": "stream",
     "text": [
      "C:\\Users\\pc\\anaconda3\\lib\\site-packages\\seaborn\\_decorators.py:36: FutureWarning: Pass the following variable as a keyword arg: x. From version 0.12, the only valid positional argument will be `data`, and passing other arguments without an explicit keyword will result in an error or misinterpretation.\n",
      "  warnings.warn(\n"
     ]
    },
    {
     "data": {
      "text/plain": [
       "<AxesSubplot:xlabel='Label', ylabel='count'>"
      ]
     },
     "execution_count": 21,
     "metadata": {},
     "output_type": "execute_result"
    },
    {
     "data": {
      "image/png": "[encoded data removed]",
      "text/plain": [
       "<Figure size 432x288 with 1 Axes>"
      ]
     },
     "metadata": {
      "needs_background": "light"
     },
     "output_type": "display_data"
    }
   ],
   "source": [
    "sns.countplot(final_df['Label'])"
   ]
  },
  {
   "cell_type": "code",
   "execution_count": 22,
   "id": "ed922450",
   "metadata": {},
   "outputs": [
    {
     "data": {
      "text/plain": [
       "(2021770, 8)"
      ]
     },
     "execution_count": 22,
     "metadata": {},
     "output_type": "execute_result"
    }
   ],
   "source": [
    "final_df.shape"
   ]
  },
  {
   "cell_type": "code",
   "execution_count": 23,
   "id": "8d5075f3",
   "metadata": {},
   "outputs": [
    {
     "data": {
      "text/html": [
       "<div>\n",
       "<style scoped>\n",
       "    .dataframe tbody tr th:only-of-type {\n",
       "        vertical-align: middle;\n",
       "    }\n",
       "\n",
       "    .dataframe tbody tr th {\n",
       "        vertical-align: top;\n",
       "    }\n",
       "\n",
       "    .dataframe thead th {\n",
       "        text-align: right;\n",
       "    }\n",
       "</style>\n",
       "<table border=\"1\" class=\"dataframe\">\n",
       "  <thead>\n",
       "    <tr style=\"text-align: right;\">\n",
       "      <th></th>\n",
       "      <th>acx</th>\n",
       "      <th>acy</th>\n",
       "      <th>acz</th>\n",
       "      <th>datetime</th>\n",
       "      <th>eda</th>\n",
       "      <th>h_rate</th>\n",
       "      <th>temp</th>\n",
       "      <th>Label</th>\n",
       "    </tr>\n",
       "  </thead>\n",
       "  <tbody>\n",
       "    <tr>\n",
       "      <th>acx</th>\n",
       "      <td>1.000000</td>\n",
       "      <td>-0.064345</td>\n",
       "      <td>0.216564</td>\n",
       "      <td>0.001911</td>\n",
       "      <td>-0.095526</td>\n",
       "      <td>0.028529</td>\n",
       "      <td>0.107759</td>\n",
       "      <td>0.114423</td>\n",
       "    </tr>\n",
       "    <tr>\n",
       "      <th>acy</th>\n",
       "      <td>-0.064345</td>\n",
       "      <td>1.000000</td>\n",
       "      <td>0.185585</td>\n",
       "      <td>-0.005107</td>\n",
       "      <td>0.000211</td>\n",
       "      <td>-0.232299</td>\n",
       "      <td>-0.048072</td>\n",
       "      <td>-0.293597</td>\n",
       "    </tr>\n",
       "    <tr>\n",
       "      <th>acz</th>\n",
       "      <td>0.216564</td>\n",
       "      <td>0.185585</td>\n",
       "      <td>1.000000</td>\n",
       "      <td>0.014391</td>\n",
       "      <td>-0.168273</td>\n",
       "      <td>-0.061966</td>\n",
       "      <td>0.014345</td>\n",
       "      <td>-0.155831</td>\n",
       "    </tr>\n",
       "    <tr>\n",
       "      <th>datetime</th>\n",
       "      <td>0.001911</td>\n",
       "      <td>-0.005107</td>\n",
       "      <td>0.014391</td>\n",
       "      <td>1.000000</td>\n",
       "      <td>0.042260</td>\n",
       "      <td>0.174742</td>\n",
       "      <td>0.059957</td>\n",
       "      <td>0.420569</td>\n",
       "    </tr>\n",
       "    <tr>\n",
       "      <th>eda</th>\n",
       "      <td>-0.095526</td>\n",
       "      <td>0.000211</td>\n",
       "      <td>-0.168273</td>\n",
       "      <td>0.042260</td>\n",
       "      <td>1.000000</td>\n",
       "      <td>0.123407</td>\n",
       "      <td>0.157174</td>\n",
       "      <td>0.314772</td>\n",
       "    </tr>\n",
       "    <tr>\n",
       "      <th>h_rate</th>\n",
       "      <td>0.028529</td>\n",
       "      <td>-0.232299</td>\n",
       "      <td>-0.061966</td>\n",
       "      <td>0.174742</td>\n",
       "      <td>0.123407</td>\n",
       "      <td>1.000000</td>\n",
       "      <td>0.166588</td>\n",
       "      <td>0.426023</td>\n",
       "    </tr>\n",
       "    <tr>\n",
       "      <th>temp</th>\n",
       "      <td>0.107759</td>\n",
       "      <td>-0.048072</td>\n",
       "      <td>0.014345</td>\n",
       "      <td>0.059957</td>\n",
       "      <td>0.157174</td>\n",
       "      <td>0.166588</td>\n",
       "      <td>1.000000</td>\n",
       "      <td>0.224753</td>\n",
       "    </tr>\n",
       "    <tr>\n",
       "      <th>Label</th>\n",
       "      <td>0.114423</td>\n",
       "      <td>-0.293597</td>\n",
       "      <td>-0.155831</td>\n",
       "      <td>0.420569</td>\n",
       "      <td>0.314772</td>\n",
       "      <td>0.426023</td>\n",
       "      <td>0.224753</td>\n",
       "      <td>1.000000</td>\n",
       "    </tr>\n",
       "  </tbody>\n",
       "</table>\n",
       "</div>"
      ],
      "text/plain": [
       "               acx       acy       acz  datetime       eda    h_rate  \\\n",
       "acx       1.000000 -0.064345  0.216564  0.001911 -0.095526  0.028529   \n",
       "acy      -0.064345  1.000000  0.185585 -0.005107  0.000211 -0.232299   \n",
       "acz       0.216564  0.185585  1.000000  0.014391 -0.168273 -0.061966   \n",
       "datetime  0.001911 -0.005107  0.014391  1.000000  0.042260  0.174742   \n",
       "eda      -0.095526  0.000211 -0.168273  0.042260  1.000000  0.123407   \n",
       "h_rate    0.028529 -0.232299 -0.061966  0.174742  0.123407  1.000000   \n",
       "temp      0.107759 -0.048072  0.014345  0.059957  0.157174  0.166588   \n",
       "Label     0.114423 -0.293597 -0.155831  0.420569  0.314772  0.426023   \n",
       "\n",
       "              temp     Label  \n",
       "acx       0.107759  0.114423  \n",
       "acy      -0.048072 -0.293597  \n",
       "acz       0.014345 -0.155831  \n",
       "datetime  0.059957  0.420569  \n",
       "eda       0.157174  0.314772  \n",
       "h_rate    0.166588  0.426023  \n",
       "temp      1.000000  0.224753  \n",
       "Label     0.224753  1.000000  "
      ]
     },
     "execution_count": 23,
     "metadata": {},
     "output_type": "execute_result"
    }
   ],
   "source": [
    "final_df.corr()"
   ]
  },
  {
   "cell_type": "code",
   "execution_count": 24,
   "id": "6373c62f",
   "metadata": {},
   "outputs": [
    {
     "data": {
      "image/png": "[encoded data removed]",
      "text/plain": [
       "<Figure size 720x720 with 2 Axes>"
      ]
     },
     "metadata": {
      "needs_background": "light"
     },
     "output_type": "display_data"
    }
   ],
   "source": [
    "#\"\"\"Heat-map to check correlation visulization with the dependent variable\"\"\"\n",
    "fig, ax = plt.subplots(figsize=(10,10))   \n",
    "sns.heatmap(final_df.corr().transpose(), cmap='inferno',annot = True)\n",
    "plt.show()"
   ]
  },
  {
   "cell_type": "code",
   "execution_count": 25,
   "id": "f084e84f",
   "metadata": {},
   "outputs": [
    {
     "data": {
      "image/png": "[encoded data removed]",
      "text/plain": [
       "<Figure size 1440x1440 with 1 Axes>"
      ]
     },
     "metadata": {
      "needs_background": "light"
     },
     "output_type": "display_data"
    }
   ],
   "source": [
    "#\"\"\"Box plot to check the outlier of the data, which can be handled by Z-score during modelling\"\"\"\n",
    "fig, ax = plt.subplots(figsize=(20,20))\n",
    "plt.boxplot(final_df)\n",
    "plt.show()"
   ]
  },
  {
   "cell_type": "code",
   "execution_count": 26,
   "id": "00682772",
   "metadata": {},
   "outputs": [],
   "source": [
    "#All the data attribute appeard to be normally distributed except fotr 4th attribute and that us fine because trhat us datetime \n",
    "#attribute"
   ]
  },
  {
   "cell_type": "markdown",
   "id": "2b10afc9",
   "metadata": {},
   "source": [
    "# Spliting the data to train the model and test the model performance"
   ]
  },
  {
   "cell_type": "code",
   "execution_count": 27,
   "id": "0c03a61e",
   "metadata": {},
   "outputs": [],
   "source": [
    "from sklearn.model_selection import train_test_split"
   ]
  },
  {
   "cell_type": "code",
   "execution_count": 28,
   "id": "1a2ea8be",
   "metadata": {},
   "outputs": [],
   "source": [
    "X = final_df.drop({'datetime','Label'},axis = 1)\n",
    "Y = final_df['Label']"
   ]
  },
  {
   "cell_type": "code",
   "execution_count": 29,
   "id": "3662f2f0",
   "metadata": {},
   "outputs": [],
   "source": [
    "X_train, X_test, y_train, y_test = train_test_split(X, Y, test_size=0.33, random_state=1)"
   ]
  },
  {
   "cell_type": "code",
   "execution_count": 39,
   "id": "9741def0",
   "metadata": {},
   "outputs": [
    {
     "data": {
      "image/png": "[encoded data removed]",
      "text/plain": [
       "<Figure size 432x288 with 1 Axes>"
      ]
     },
     "metadata": {
      "needs_background": "light"
     },
     "output_type": "display_data"
    }
   ],
   "source": [
    "train_class_counts = pd.Series(y_train).value_counts()\n",
    "test_class_counts = pd.Series(y_test).value_counts()\n",
    "\n",
    "df = pd.DataFrame({'Training data': train_class_counts, 'Testing data': test_class_counts})\n",
    "df.plot(kind='bar')\n",
    "plt.show()"
   ]
  },
  {
   "cell_type": "code",
   "execution_count": 30,
   "id": "c26c2888",
   "metadata": {},
   "outputs": [
    {
     "data": {
      "text/plain": [
       "9680"
      ]
     },
     "execution_count": 30,
     "metadata": {},
     "output_type": "execute_result"
    }
   ],
   "source": [
    "gc.collect()"
   ]
  },
  {
   "cell_type": "markdown",
   "id": "4ca0f54a",
   "metadata": {},
   "source": [
    "# Feature Selection"
   ]
  },
  {
   "cell_type": "code",
   "execution_count": 31,
   "id": "8dd34811",
   "metadata": {},
   "outputs": [],
   "source": [
    "from sklearn.feature_selection import SelectKBest\n",
    "from sklearn.feature_selection import f_classif"
   ]
  },
  {
   "cell_type": "code",
   "execution_count": 32,
   "id": "172f8a4a",
   "metadata": {},
   "outputs": [],
   "source": [
    "# feature selection \"\"\"Pre defined fucntion of feature selection taken from web\"\"\"\n",
    "def select_features(X_train, y_train, X_test):\n",
    " # configure to select all features\n",
    " fs = SelectKBest(score_func=f_classif, k='all')\n",
    " # learn relationship from training data\n",
    " fs.fit(X_train, y_train)\n",
    " # transform train input data\n",
    " X_train_fs = fs.transform(X_train)\n",
    " # transform test input data\n",
    " X_test_fs = fs.transform(X_test)\n",
    " return X_train_fs, X_test_fs, fs"
   ]
  },
  {
   "cell_type": "code",
   "execution_count": 33,
   "id": "7dd816a6",
   "metadata": {},
   "outputs": [
    {
     "name": "stdout",
     "output_type": "stream",
     "text": [
      "Feature 0: 17587.601161\n",
      "Feature 1: 128627.974909\n",
      "Feature 2: 33446.975171\n",
      "Feature 3: 149129.939402\n",
      "Feature 4: 299849.502710\n",
      "Feature 5: 71790.842070\n"
     ]
    }
   ],
   "source": [
    "#Tells us the scores of features which are best for model building \n",
    "X_train_fs, X_test_fs, fs = select_features(X_train, y_train, X_test)\n",
    "# what are scores for the features\n",
    "for i in range(len(fs.scores_)):\n",
    " print('Feature %d: %f' % (i, fs.scores_[i]))"
   ]
  },
  {
   "cell_type": "code",
   "execution_count": 34,
   "id": "5571534c",
   "metadata": {},
   "outputs": [
    {
     "data": {
      "image/png": "[encoded data removed]",
      "text/plain": [
       "<Figure size 432x288 with 1 Axes>"
      ]
     },
     "metadata": {
      "needs_background": "light"
     },
     "output_type": "display_data"
    }
   ],
   "source": [
    "#Shows Which Feature is best for model building\n",
    "plt.bar([i for i in range(len(fs.scores_))], fs.scores_)\n",
    "plt.show()"
   ]
  },
  {
   "cell_type": "code",
   "execution_count": 35,
   "id": "4c2169bd",
   "metadata": {},
   "outputs": [
    {
     "data": {
      "text/plain": [
       "3238"
      ]
     },
     "execution_count": 35,
     "metadata": {},
     "output_type": "execute_result"
    }
   ],
   "source": [
    "gc.collect()"
   ]
  },
  {
   "cell_type": "markdown",
   "id": "52467e95",
   "metadata": {},
   "source": [
    "# Model Building"
   ]
  },
  {
   "cell_type": "markdown",
   "id": "28d28f0b",
   "metadata": {},
   "source": [
    "# SGD Classifier"
   ]
  },
  {
   "cell_type": "code",
   "execution_count": 40,
   "id": "5033707a",
   "metadata": {},
   "outputs": [
    {
     "data": {
      "text/plain": [
       "SGDClassifier()"
      ]
     },
     "execution_count": 40,
     "metadata": {},
     "output_type": "execute_result"
    }
   ],
   "source": [
    "from sklearn import linear_model\n",
    "\n",
    "SGD = linear_model.SGDClassifier()\n",
    "SGD.fit(X_train,y_train)"
   ]
  },
  {
   "cell_type": "code",
   "execution_count": 41,
   "id": "fdb607c2",
   "metadata": {},
   "outputs": [],
   "source": [
    "SGD_pred = SGD.predict(X_test)"
   ]
  },
  {
   "cell_type": "code",
   "execution_count": 42,
   "id": "ac1f265e",
   "metadata": {},
   "outputs": [
    {
     "name": "stdout",
     "output_type": "stream",
     "text": [
      "              precision    recall  f1-score   support\n",
      "\n",
      "           0       0.80      0.74      0.77    333939\n",
      "           1       0.76      0.82      0.79    333246\n",
      "\n",
      "    accuracy                           0.78    667185\n",
      "   macro avg       0.78      0.78      0.78    667185\n",
      "weighted avg       0.78      0.78      0.78    667185\n",
      "\n"
     ]
    }
   ],
   "source": [
    "print(classification_report(y_test, SGD_pred))"
   ]
  },
  {
   "cell_type": "code",
   "execution_count": 52,
   "id": "87f1eb0a",
   "metadata": {},
   "outputs": [],
   "source": [
    "from sklearn.metrics import confusion_matrix, ConfusionMatrixDisplay"
   ]
  },
  {
   "cell_type": "code",
   "execution_count": 53,
   "id": "8bcf48fd",
   "metadata": {},
   "outputs": [
    {
     "data": {
      "text/plain": [
       "array([[247224,  86715],\n",
       "       [ 59929, 273317]], dtype=int64)"
      ]
     },
     "execution_count": 53,
     "metadata": {},
     "output_type": "execute_result"
    }
   ],
   "source": [
    "#Confusion matrix representing True positive(TP), True Negative(NP), False Positive(FP), False Negative(FN)\n",
    "con1 = confusion_matrix(y_test, SGD_pred)\n",
    "con1"
   ]
  },
  {
   "cell_type": "code",
   "execution_count": 60,
   "id": "596dbc41",
   "metadata": {},
   "outputs": [
    {
     "data": {
      "text/plain": [
       "<sklearn.metrics._plot.confusion_matrix.ConfusionMatrixDisplay at 0x1f4e0acbe80>"
      ]
     },
     "execution_count": 60,
     "metadata": {},
     "output_type": "execute_result"
    },
    {
     "data": {
      "image/png": "[encoded data removed]",
      "text/plain": [
       "<Figure size 432x288 with 2 Axes>"
      ]
     },
     "metadata": {
      "needs_background": "light"
     },
     "output_type": "display_data"
    }
   ],
   "source": [
    "disp = ConfusionMatrixDisplay(confusion_matrix=con1)\n",
    "disp.plot()"
   ]
  },
  {
   "cell_type": "markdown",
   "id": "45f88520",
   "metadata": {},
   "source": [
    "# Naive Bayes"
   ]
  },
  {
   "cell_type": "code",
   "execution_count": 62,
   "id": "077920f8",
   "metadata": {},
   "outputs": [
    {
     "data": {
      "text/plain": [
       "BernoulliNB()"
      ]
     },
     "execution_count": 62,
     "metadata": {},
     "output_type": "execute_result"
    }
   ],
   "source": [
    "from sklearn.naive_bayes import BernoulliNB\n",
    "\n",
    "NB = BernoulliNB()\n",
    "\n",
    "NB.fit(X_train,y_train)"
   ]
  },
  {
   "cell_type": "code",
   "execution_count": 63,
   "id": "c5c2c536",
   "metadata": {},
   "outputs": [],
   "source": [
    "NB_pred = NB.predict(X_test)"
   ]
  },
  {
   "cell_type": "code",
   "execution_count": 64,
   "id": "3a7a2844",
   "metadata": {},
   "outputs": [
    {
     "name": "stdout",
     "output_type": "stream",
     "text": [
      "              precision    recall  f1-score   support\n",
      "\n",
      "           0       0.60      0.43      0.50    333939\n",
      "           1       0.55      0.71      0.62    333246\n",
      "\n",
      "    accuracy                           0.57    667185\n",
      "   macro avg       0.58      0.57      0.56    667185\n",
      "weighted avg       0.58      0.57      0.56    667185\n",
      "\n"
     ]
    }
   ],
   "source": [
    "print(classification_report(y_test, NB_pred))"
   ]
  },
  {
   "cell_type": "code",
   "execution_count": 65,
   "id": "2a0cb9d5",
   "metadata": {},
   "outputs": [
    {
     "data": {
      "text/plain": [
       "array([[144810, 189129],\n",
       "       [ 97801, 235445]], dtype=int64)"
      ]
     },
     "execution_count": 65,
     "metadata": {},
     "output_type": "execute_result"
    }
   ],
   "source": [
    "#Confusion matrix representing True positive(TP), True Negative(NP), False Positive(FP), False Negative(FN)\n",
    "con2 = confusion_matrix(y_test, NB_pred)\n",
    "con2"
   ]
  },
  {
   "cell_type": "code",
   "execution_count": 66,
   "id": "fbfced70",
   "metadata": {},
   "outputs": [
    {
     "data": {
      "text/plain": [
       "<sklearn.metrics._plot.confusion_matrix.ConfusionMatrixDisplay at 0x1f4e0bbcdc0>"
      ]
     },
     "execution_count": 66,
     "metadata": {},
     "output_type": "execute_result"
    },
    {
     "data": {
      "image/png": "[encoded data removed]",
      "text/plain": [
       "<Figure size 432x288 with 2 Axes>"
      ]
     },
     "metadata": {
      "needs_background": "light"
     },
     "output_type": "display_data"
    }
   ],
   "source": [
    "disp2 = ConfusionMatrixDisplay(confusion_matrix=con2)\n",
    "disp2.plot()"
   ]
  },
  {
   "cell_type": "markdown",
   "id": "4dab8572",
   "metadata": {},
   "source": [
    "# Random Forest"
   ]
  },
  {
   "cell_type": "code",
   "execution_count": 67,
   "id": "d59acf45",
   "metadata": {},
   "outputs": [
    {
     "data": {
      "text/plain": [
       "RandomForestClassifier(max_depth=2, random_state=0)"
      ]
     },
     "execution_count": 67,
     "metadata": {},
     "output_type": "execute_result"
    }
   ],
   "source": [
    "from sklearn.ensemble import RandomForestClassifier\n",
    "\n",
    "RF = RandomForestClassifier(max_depth=2, random_state=0)\n",
    "RF.fit(X_train,y_train)"
   ]
  },
  {
   "cell_type": "code",
   "execution_count": 68,
   "id": "54b7bd62",
   "metadata": {},
   "outputs": [],
   "source": [
    "RF_pred = RF.predict(X_test)"
   ]
  },
  {
   "cell_type": "code",
   "execution_count": 69,
   "id": "ae693c12",
   "metadata": {},
   "outputs": [
    {
     "name": "stdout",
     "output_type": "stream",
     "text": [
      "              precision    recall  f1-score   support\n",
      "\n",
      "           0       0.89      0.86      0.87    333939\n",
      "           1       0.86      0.89      0.88    333246\n",
      "\n",
      "    accuracy                           0.88    667185\n",
      "   macro avg       0.88      0.88      0.88    667185\n",
      "weighted avg       0.88      0.88      0.88    667185\n",
      "\n"
     ]
    }
   ],
   "source": [
    "print(classification_report(y_test, RF_pred))"
   ]
  },
  {
   "cell_type": "code",
   "execution_count": 70,
   "id": "1c9ebfe5",
   "metadata": {},
   "outputs": [
    {
     "data": {
      "text/plain": [
       "array([[287010,  46929],\n",
       "       [ 36386, 296860]], dtype=int64)"
      ]
     },
     "execution_count": 70,
     "metadata": {},
     "output_type": "execute_result"
    }
   ],
   "source": [
    "#Confusion matrix representing True positive(TP), True Negative(NP), False Positive(FP), False Negative(FN)\n",
    "con3 = confusion_matrix(y_test, RF_pred)\n",
    "con3"
   ]
  },
  {
   "cell_type": "code",
   "execution_count": 71,
   "id": "1f1412ca",
   "metadata": {},
   "outputs": [
    {
     "data": {
      "text/plain": [
       "<sklearn.metrics._plot.confusion_matrix.ConfusionMatrixDisplay at 0x1f4e0d6ddf0>"
      ]
     },
     "execution_count": 71,
     "metadata": {},
     "output_type": "execute_result"
    },
    {
     "data": {
      "image/png": "[encoded data removed]",
      "text/plain": [
       "<Figure size 432x288 with 2 Axes>"
      ]
     },
     "metadata": {
      "needs_background": "light"
     },
     "output_type": "display_data"
    }
   ],
   "source": [
    "disp3 = ConfusionMatrixDisplay(confusion_matrix=con3)\n",
    "disp3.plot()"
   ]
  },
  {
   "cell_type": "code",
   "execution_count": null,
   "id": "5fa7d519",
   "metadata": {},
   "outputs": [],
   "source": []
  }
 ],
 "metadata": {
  "kernelspec": {
   "display_name": "Python 3 (ipykernel)",
   "language": "python",
   "name": "python3"
  },
  "language_info": {
   "codemirror_mode": {
    "name": "ipython",
    "version": 3
   },
   "file_extension": ".py",
   "mimetype": "text/x-python",
   "name": "python",
   "nbconvert_exporter": "python",
   "pygments_lexer": "ipython3",
   "version": "3.9.12"
  }
 },
 "nbformat": 4,
 "nbformat_minor": 5
}
